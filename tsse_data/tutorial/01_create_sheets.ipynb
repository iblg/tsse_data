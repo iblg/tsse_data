{
 "cells": [
  {
   "cell_type": "markdown",
   "id": "f0f43aaa-0406-41d3-b976-54093ebe7151",
   "metadata": {},
   "source": [
    "### Purpose of this notebook"
   ]
  },
  {
   "cell_type": "markdown",
   "id": "5ed387c4-c0e5-4381-a4ef-93c8499bf7d3",
   "metadata": {},
   "source": [
    "This notebook automatically generates spreadsheets for recording the common data needed during TSSE (KF, TOC, and IC) measurements. "
   ]
  },
  {
   "cell_type": "markdown",
   "id": "96886bde-ae23-479b-8b68-6dac97e4599e",
   "metadata": {},
   "source": [
    "### Let's go!"
   ]
  },
  {
   "cell_type": "markdown",
   "id": "6fef2a8b-0753-4887-82ee-487b978efa3c",
   "metadata": {},
   "source": [
    "Import files, including the main ones from the tsse_data package."
   ]
  },
  {
   "cell_type": "code",
   "execution_count": 1,
   "id": "f43067bd-749d-4402-9e52-88b47d5d6d41",
   "metadata": {},
   "outputs": [],
   "source": [
    "from tsse_data.toc_measurement import create_toc_spreadsheet\n",
    "from tsse_data.org_ic_measurement import create_org_ic_spreadsheet\n",
    "from tsse_data.aq_ic_measurement import create_aq_ic_spreadsheet\n",
    "from tsse_data.kf_measurement import create_kf_spreadsheet\n",
    "from tsse_data.general_processing import create_measurement_folder\n",
    "from pathlib import Path"
   ]
  },
  {
   "cell_type": "markdown",
   "id": "3f8ada60-1951-4474-85b2-e9baab5ec283",
   "metadata": {},
   "source": [
    "Create folder for measurement spreadsheets if it does not already exist.\n",
    "\n",
    "The default filepath is the directory holding this notebook, but another one can be specified if the argument to `filepath` is not `None`. The `create_measurement_folder` will create a sub-folder at the location of the path. The name of the new folder can be specified using the `dir_name` argument."
   ]
  },
  {
   "cell_type": "code",
   "execution_count": 2,
   "id": "f3c0592d-683c-4ee0-a386-5502cf167d9a",
   "metadata": {
    "scrolled": true
   },
   "outputs": [
    {
     "name": "stdout",
     "output_type": "stream",
     "text": [
      "Folder measurements is already there\n"
     ]
    }
   ],
   "source": [
    "path = create_measurement_folder(filepath=None, dir_name='measurements')"
   ]
  },
  {
   "cell_type": "markdown",
   "id": "acfd1ff4-3ad7-464c-bc31-ef23e2ca80de",
   "metadata": {},
   "source": [
    "Define your dims and ions.\n",
    "Dims are dimensions -- the descriptors needed to identify a sample within this experiment. If you are using two different solvents in the experiment, then solvents would be in dims. If you are using different cations, that would be a dim. If two experimenters are working on it, that would be a dim. Anything that would have a value that you would need to fill in on this spreadsheet can be a dim.\n",
    "\n",
    "Note that things that are descriptors in a more general sense but are *common* to all of the data you are processing right now (maybe temperature, if all of the samples you are putting in this spredsheet will be at a single temperature), then they do *not* have to be in dims. You will add them later, automatically. This is to avoid you having to type them over and over or do a lot of tedious excel dragging when you are filling in the worksheet.\n",
    "\n",
    "Ions are the ions being measured on the IC. This is needed, even if all of the samples are being measured on just one ion. If you are measuring multiple ions on one IC curve, you can add in both ions."
   ]
  },
  {
   "cell_type": "code",
   "execution_count": 3,
   "id": "3d8639e8-673b-41ae-801e-f5d0a01d6acc",
   "metadata": {},
   "outputs": [],
   "source": [
    "dims = ['amine', 'cation', 'anion', 'experimenter']\n",
    "ions = ['Br']"
   ]
  },
  {
   "cell_type": "markdown",
   "id": "e97fe316-1691-4f8c-b2bf-d1975e0ae239",
   "metadata": {},
   "source": [
    "Create spreadsheets using the `create_..._spreadsheet` functions. \n",
    "\n",
    "IMPORTANT: When called, you will need to enter approval using the keyboard. This is to prevent you from overwriting (and hence erasing) any previously entered data. If you run these `create_..._spreadsheet` functions and already have a filled-in spreadsheet at that filepath, it will be erased, along with all of the data entered in that sheet. To avoid any overwriting, you can always specify a new filepath.\n",
    "\n",
    "The docstrings of these functions can be accessed at any time by entering `create_..._spreadsheet?` in a cell."
   ]
  },
  {
   "cell_type": "code",
   "execution_count": 4,
   "id": "9ac7144e-078f-4c7c-8e3c-2e639e791a4f",
   "metadata": {},
   "outputs": [
    {
     "data": {
      "text/plain": [
       "\u001b[0;31mSignature:\u001b[0m\n",
       "\u001b[0mcreate_aq_ic_spreadsheet\u001b[0m\u001b[0;34m(\u001b[0m\u001b[0;34m\u001b[0m\n",
       "\u001b[0;34m\u001b[0m    \u001b[0mfilepath\u001b[0m\u001b[0;34m:\u001b[0m \u001b[0mtuple\u001b[0m\u001b[0;34m,\u001b[0m\u001b[0;34m\u001b[0m\n",
       "\u001b[0;34m\u001b[0m    \u001b[0mdims\u001b[0m\u001b[0;34m:\u001b[0m \u001b[0mlist\u001b[0m\u001b[0;34m,\u001b[0m\u001b[0;34m\u001b[0m\n",
       "\u001b[0;34m\u001b[0m    \u001b[0mions\u001b[0m\u001b[0;34m:\u001b[0m \u001b[0mlist\u001b[0m\u001b[0;34m,\u001b[0m\u001b[0;34m\u001b[0m\n",
       "\u001b[0;34m\u001b[0m    \u001b[0mspot\u001b[0m\u001b[0;34m:\u001b[0m \u001b[0mbool\u001b[0m \u001b[0;34m=\u001b[0m \u001b[0;32mFalse\u001b[0m\u001b[0;34m,\u001b[0m\u001b[0;34m\u001b[0m\n",
       "\u001b[0;34m\u001b[0m    \u001b[0msecond_dilution\u001b[0m\u001b[0;34m:\u001b[0m \u001b[0mbool\u001b[0m \u001b[0;34m=\u001b[0m \u001b[0;32mFalse\u001b[0m\u001b[0;34m,\u001b[0m\u001b[0;34m\u001b[0m\n",
       "\u001b[0;34m\u001b[0m\u001b[0;34m)\u001b[0m\u001b[0;34m\u001b[0m\u001b[0;34m\u001b[0m\u001b[0m\n",
       "\u001b[0;31mDocstring:\u001b[0m\n",
       "filepath : str\n",
       "The filepath to the TOC spreadsheet you wish to create.\n",
       "\n",
       "dims : list or array of str\n",
       "The list of column names that you wish to pass. These should be the same as the dims of your overall experiment.\n",
       "\n",
       "ions : list of str\n",
       "The list of ions that are being measured.\n",
       "\n",
       "spot : bool, default False\n",
       "If True, puts in a column for you to indicate the spot on the machine. If false, omits this column.\n",
       "\n",
       "second_dil :\n",
       "\u001b[0;31mFile:\u001b[0m      ~/dev/tsse_data/tsse_data/aq_ic_measurement.py\n",
       "\u001b[0;31mType:\u001b[0m      function"
      ]
     },
     "metadata": {},
     "output_type": "display_data"
    }
   ],
   "source": [
    "create_aq_ic_spreadsheet?"
   ]
  },
  {
   "cell_type": "code",
   "execution_count": 5,
   "id": "ab27c268-7873-4880-9e19-5fc7d5684ec4",
   "metadata": {},
   "outputs": [
    {
     "name": "stdout",
     "output_type": "stream",
     "text": [
      "Running create_org_ic_spreadsheet will overwrite any current spreadsheet in the location /Users/ianbillinge/dev/tsse_data/tsse_data/tutorial/measurements/org_ic.xlsx.\n"
     ]
    },
    {
     "name": "stdin",
     "output_type": "stream",
     "text": [
      "Do you want to continue? Enter 'y' to continue. Hit any other key to abort. y\n"
     ]
    }
   ],
   "source": [
    "fp = str(path / 'org_ic.xlsx')\n",
    "create_org_ic_spreadsheet(fp, dims, ions, second_dilution=True, spot=False, dish_label=False)"
   ]
  },
  {
   "cell_type": "code",
   "execution_count": 6,
   "id": "db7e76a0-2e81-4829-8a31-84883d992856",
   "metadata": {},
   "outputs": [
    {
     "name": "stdout",
     "output_type": "stream",
     "text": [
      "Running create_aq_ic_spreadsheet will overwrite any current spreadsheet in the location /Users/ianbillinge/dev/tsse_data/tsse_data/tutorial/measurements/aq_ic.xlsx.\n"
     ]
    },
    {
     "name": "stdin",
     "output_type": "stream",
     "text": [
      "Do you want to continue? Enter 'y' to continue. Hit any other key to abort. y\n"
     ]
    }
   ],
   "source": [
    "fp = str(path / 'aq_ic.xlsx')\n",
    "create_aq_ic_spreadsheet(fp, dims, ions, second_dilution=True, spot=False)"
   ]
  },
  {
   "cell_type": "code",
   "execution_count": 7,
   "id": "a7b93eab-e5d9-4186-a676-cc2a1fa81ca4",
   "metadata": {},
   "outputs": [
    {
     "name": "stdout",
     "output_type": "stream",
     "text": [
      "Running create_toc_spreadsheet will overwrite any current spreadsheet in the location /Users/ianbillinge/dev/tsse_data/tsse_data/tutorial/measurements/toc.xlsx.\n"
     ]
    },
    {
     "name": "stdin",
     "output_type": "stream",
     "text": [
      "Do you want to continue? Enter 'y' to continue. Hit any other key to abort. y\n"
     ]
    }
   ],
   "source": [
    "fp = str(path / 'toc.xlsx')\n",
    "\n",
    "create_toc_spreadsheet(fp, dims)"
   ]
  },
  {
   "cell_type": "code",
   "execution_count": 8,
   "id": "876038a7-b2fb-45cc-b56f-b6252cd308a0",
   "metadata": {},
   "outputs": [
    {
     "name": "stdout",
     "output_type": "stream",
     "text": [
      "Running create_kf_spreadsheet will overwrite any current spreadsheet in the location /Users/ianbillinge/dev/tsse_data/tsse_data/tutorial/measurements/kf.xlsx.\n"
     ]
    },
    {
     "name": "stdin",
     "output_type": "stream",
     "text": [
      "Do you want to continue? Enter 'y' to continue. Hit any other key to abort. y\n"
     ]
    }
   ],
   "source": [
    "fp = str(path / 'kf.xlsx')\n",
    "\n",
    "create_kf_spreadsheet(fp, dims,ep1=False, titer=False)"
   ]
  }
 ],
 "metadata": {
  "kernelspec": {
   "display_name": "Python 3 (ipykernel)",
   "language": "python",
   "name": "python3"
  },
  "language_info": {
   "codemirror_mode": {
    "name": "ipython",
    "version": 3
   },
   "file_extension": ".py",
   "mimetype": "text/x-python",
   "name": "python",
   "nbconvert_exporter": "python",
   "pygments_lexer": "ipython3",
   "version": "3.12.0"
  }
 },
 "nbformat": 4,
 "nbformat_minor": 5
}
